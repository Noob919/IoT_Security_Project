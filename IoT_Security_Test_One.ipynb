{
  "nbformat": 4,
  "nbformat_minor": 0,
  "metadata": {
    "colab": {
      "provenance": [],
      "mount_file_id": "1PJL4N2tGVb14sM08T4AszjneQs_PziHd",
      "authorship_tag": "ABX9TyNh5HctDgcuCdmU8gnz1jie",
      "include_colab_link": true
    },
    "kernelspec": {
      "name": "python3",
      "display_name": "Python 3"
    },
    "language_info": {
      "name": "python"
    }
  },
  "cells": [
    {
      "cell_type": "markdown",
      "metadata": {
        "id": "view-in-github",
        "colab_type": "text"
      },
      "source": [
        "<a href=\"https://colab.research.google.com/github/Noob919/IoT_Security_Project/blob/main/IoT_Security_Test_One.ipynb\" target=\"_parent\"><img src=\"https://colab.research.google.com/assets/colab-badge.svg\" alt=\"Open In Colab\"/></a>"
      ]
    },
    {
      "cell_type": "code",
      "source": [
        "!pip install pyspark"
      ],
      "metadata": {
        "id": "sCdhYfRs2E0y"
      },
      "execution_count": null,
      "outputs": []
    },
    {
      "cell_type": "code",
      "execution_count": 3,
      "metadata": {
        "id": "R-UYgKFi1BRm"
      },
      "outputs": [],
      "source": [
        "import pandas as pd\n",
        "import numpy as np\n",
        "import os\n",
        "from tqdm import tqdm\n",
        "import warnings\n",
        "warnings.filterwarnings('ignore')\n",
        "from sklearn.preprocessing import MinMaxScaler, StandardScaler\n",
        "from sklearn.linear_model import LogisticRegression"
      ]
    },
    {
      "cell_type": "code",
      "source": [
        "# Set the dataset directory\n",
        "DATASET_DIRECTORY = '../content/drive/MyDrive/Data/'\n",
        "\n",
        "# Importing Dataset\n",
        "\n",
        "df_sets = [k for k in os.listdir(DATASET_DIRECTORY) if k.endswith('.csv')]\n",
        "df_sets.sort()\n",
        "training_sets = df_sets[:int(len(df_sets) * 0.8)]\n",
        "test_sets = df_sets[int(len(df_sets) * 0.8):]\n",
        "\n",
        "X_columns = [\n",
        "    'flow_duration', 'Header_Length', 'Protocol Type', 'Duration',\n",
        "    'Rate', 'Srate', 'Drate', 'fin_flag_number', 'syn_flag_number',\n",
        "    'rst_flag_number', 'psh_flag_number', 'ack_flag_number',\n",
        "    'ece_flag_number', 'cwr_flag_number', 'ack_count',\n",
        "    'syn_count', 'fin_count', 'urg_count', 'rst_count',\n",
        "    'HTTP', 'HTTPS', 'DNS', 'Telnet', 'SMTP', 'SSH', 'IRC', 'TCP',\n",
        "    'UDP', 'DHCP', 'ARP', 'ICMP', 'IPv', 'LLC', 'Tot sum', 'Min',\n",
        "    'Max', 'AVG', 'Std', 'Tot size', 'IAT', 'Number', 'Magnitue',\n",
        "    'Radius', 'Covariance', 'Variance', 'Weight',\n",
        "]\n",
        "y_column = 'label'"
      ],
      "metadata": {
        "id": "vTsbr39G2q3X"
      },
      "execution_count": 2,
      "outputs": []
    },
    {
      "cell_type": "code",
      "source": [
        "# Scaling\n",
        "scaler = StandardScaler()\n",
        "\n",
        "for train_set in tqdm(training_sets):\n",
        "    scaler.fit(pd.read_csv(DATASET_DIRECTORY + train_set)[X_columns])\n",
        "\n",
        "# Classification: 34 (33+1) classes\n",
        "\n",
        "ML_models = [\n",
        "    LogisticRegression(n_jobs=-1),\n",
        "]\n",
        "\n",
        "ML_names = [\n",
        "    \"LogisticRegression\",\n",
        "]\n",
        "\n",
        "for train_set in tqdm(training_sets):\n",
        "    d = pd.read_csv(DATASET_DIRECTORY + train_set)\n",
        "    d[X_columns] = scaler.transform(d[X_columns])\n",
        "    for model in ML_models:\n",
        "        model.fit(d[X_columns], d[y_column])\n",
        "    del d\n",
        "\n",
        "y_test = []\n",
        "preds = {i: [] for i in range(len(ML_models))}\n",
        "for test_set in tqdm(test_sets):\n",
        "    d_test = pd.read_csv(DATASET_DIRECTORY + test_set)\n",
        "    d_test[X_columns] = scaler.transform(d_test[X_columns])\n",
        "\n",
        "    y_test += list(d_test[y_column].values)\n",
        "\n",
        "    for i in range(len(ML_models)):\n",
        "        model = ML_models[i]\n",
        "        y_pred = list(model.predict(d_test[X_columns]))\n",
        "        preds[i] = preds[i] + y_pred\n",
        "\n",
        "from sklearn.metrics import accuracy_score, recall_score, precision_score, f1_score\n",
        "for k, v in preds.items():\n",
        "    y_pred = v\n",
        "    print(f\"##### {ML_names[k]} (34 classes) #####\")\n",
        "    print('accuracy_score: ', accuracy_score(y_pred, y_test))\n",
        "    print('recall_score: ', recall_score(y_pred, y_test, average='macro'))\n",
        "    print('precision_score: ', precision_score(y_pred, y_test, average='macro'))\n",
        "    print('f1_score: ', f1_score(y_pred, y_test, average='macro'))\n",
        "    print()"
      ],
      "metadata": {
        "colab": {
          "base_uri": "https://localhost:8080/"
        },
        "id": "DCOuOLUT23rs",
        "outputId": "5a5f2026-e8d7-4840-c6aa-39804c4b8d47"
      },
      "execution_count": null,
      "outputs": [
        {
          "output_type": "stream",
          "name": "stderr",
          "text": [
            "100%|██████████| 135/135 [08:46<00:00,  3.90s/it]\n",
            "100%|██████████| 135/135 [1:30:31<00:00, 40.24s/it]\n",
            "100%|██████████| 34/34 [02:40<00:00,  4.71s/it]\n"
          ]
        },
        {
          "output_type": "stream",
          "name": "stdout",
          "text": [
            "##### LogisticRegression (34 classes) #####\n",
            "accuracy_score:  0.8023150703359454\n",
            "recall_score:  0.5952018497587938\n",
            "precision_score:  0.48675246069736294\n",
            "f1_score:  0.49388408007815876\n",
            "\n"
          ]
        }
      ]
    },
    {
      "cell_type": "code",
      "source": [
        "# Classification: 8 (7+1) classes\n",
        "\n",
        "dict_7classes = {}\n",
        "dict_7classes['DDoS-RSTFINFlood'] = 'DDoS'\n",
        "dict_7classes['DDoS-PSHACK_Flood'] = 'DDoS'\n",
        "dict_7classes['DDoS-SYN_Flood'] = 'DDoS'\n",
        "dict_7classes['DDoS-UDP_Flood'] = 'DDoS'\n",
        "dict_7classes['DDoS-TCP_Flood'] = 'DDoS'\n",
        "dict_7classes['DDoS-ICMP_Flood'] = 'DDoS'\n",
        "dict_7classes['DDoS-SynonymousIP_Flood'] = 'DDoS'\n",
        "dict_7classes['DDoS-ACK_Fragmentation'] = 'DDoS'\n",
        "dict_7classes['DDoS-UDP_Fragmentation'] = 'DDoS'\n",
        "dict_7classes['DDoS-ICMP_Fragmentation'] = 'DDoS'\n",
        "dict_7classes['DDoS-SlowLoris'] = 'DDoS'\n",
        "dict_7classes['DDoS-HTTP_Flood'] = 'DDoS'\n",
        "\n",
        "dict_7classes['DoS-UDP_Flood'] = 'DoS'\n",
        "dict_7classes['DoS-SYN_Flood'] = 'DoS'\n",
        "dict_7classes['DoS-TCP_Flood'] = 'DoS'\n",
        "dict_7classes['DoS-HTTP_Flood'] = 'DoS'\n",
        "\n",
        "dict_7classes['Mirai-greeth_flood'] = 'Mirai'\n",
        "dict_7classes['Mirai-greip_flood'] = 'Mirai'\n",
        "dict_7classes['Mirai-udpplain'] = 'Mirai'\n",
        "\n",
        "dict_7classes['Recon-PingSweep'] = 'Recon'\n",
        "dict_7classes['Recon-OSScan'] = 'Recon'\n",
        "dict_7classes['Recon-PortScan'] = 'Recon'\n",
        "dict_7classes['VulnerabilityScan'] = 'Recon'\n",
        "dict_7classes['Recon-HostDiscovery'] = 'Recon'\n",
        "\n",
        "dict_7classes['DNS_Spoofing'] = 'Spoofing'\n",
        "dict_7classes['MITM-ArpSpoofing'] = 'Spoofing'\n",
        "\n",
        "dict_7classes['BenignTraffic'] = 'Benign'\n",
        "\n",
        "dict_7classes['BrowserHijacking'] = 'Web'\n",
        "dict_7classes['Backdoor_Malware'] = 'Web'\n",
        "dict_7classes['XSS'] = 'Web'\n",
        "dict_7classes['Uploading_Attack'] = 'Web'\n",
        "dict_7classes['SqlInjection'] = 'Web'\n",
        "dict_7classes['CommandInjection'] = 'Web'\n",
        "\n",
        "dict_7classes['DictionaryBruteForce'] = 'BruteForce'\n",
        "\n",
        "ML_models = [\n",
        "    LogisticRegression(n_jobs=-1),\n",
        "]\n",
        "\n",
        "ML_names = [\n",
        "    \"LogisticRegression\",\n",
        "]\n",
        "\n",
        "for train_set in tqdm(training_sets):\n",
        "    d = pd.read_csv(DATASET_DIRECTORY + train_set)\n",
        "    d[X_columns] = scaler.transform(d[X_columns])\n",
        "    new_y = [dict_7classes[k] for k in d[y_column]]\n",
        "    d[y_column] = new_y\n",
        "\n",
        "    for model in ML_models:\n",
        "        model.fit(d[X_columns], d[y_column])\n",
        "    del d\n",
        "\n",
        "y_test = []\n",
        "preds = {i: [] for i in range(len(ML_models))}\n",
        "for test_set in tqdm(test_sets):\n",
        "    d_test = pd.read_csv(DATASET_DIRECTORY + test_set)\n",
        "    d_test[X_columns] = scaler.transform(d_test[X_columns])\n",
        "    new_y = [dict_7classes[k] for k in d_test[y_column]]\n",
        "    d_test[y_column] = new_y\n",
        "\n",
        "    y_test += list(d_test[y_column].values)\n",
        "\n",
        "    for i in range(len(ML_models)):\n",
        "        model = ML_models[i]\n",
        "        y_pred = list(model.predict(d_test[X_columns]))\n",
        "        preds[i] = preds[i] + y_pred\n",
        "\n",
        "for k, v in preds.items():\n",
        "    y_pred = v\n",
        "    print(f\"##### {ML_names[k]} (8 classes) #####\")\n",
        "    print('accuracy_score = ', accuracy_score(y_pred, y_test))\n",
        "    print('recall_score = ', recall_score(y_pred, y_test, average='macro'))\n",
        "    print('precision_score = ', precision_score(y_pred, y_test, average='macro'))\n",
        "    print('f1_score = ', f1_score(y_pred, y_test, average='macro'))\n",
        "    print()"
      ],
      "metadata": {
        "colab": {
          "base_uri": "https://localhost:8080/"
        },
        "id": "ii12CChg262p",
        "outputId": "e3406eed-04aa-4afe-f9e7-528e88cdca8b"
      },
      "execution_count": null,
      "outputs": [
        {
          "output_type": "stream",
          "name": "stderr",
          "text": [
            "100%|██████████| 135/135 [35:29<00:00, 15.78s/it]\n",
            "100%|██████████| 34/34 [02:05<00:00,  3.71s/it]\n"
          ]
        },
        {
          "output_type": "stream",
          "name": "stdout",
          "text": [
            "##### LogisticRegression (8 classes) #####\n",
            "accuracy_score =  0.8316741876649696\n",
            "recall_score =  0.6960555966679013\n",
            "precision_score =  0.512409685945838\n",
            "f1_score =  0.5394240477526282\n",
            "\n"
          ]
        }
      ]
    },
    {
      "cell_type": "code",
      "source": [],
      "metadata": {
        "id": "kS45LIpERK7A"
      },
      "execution_count": null,
      "outputs": []
    }
  ]
}